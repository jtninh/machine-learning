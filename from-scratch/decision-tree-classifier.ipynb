{
 "cells": [
  {
   "cell_type": "markdown",
   "metadata": {},
   "source": [
    "# Import dependencies"
   ]
  },
  {
   "cell_type": "code",
   "execution_count": 1,
   "metadata": {},
   "outputs": [],
   "source": [
    "import numpy as np\n",
    "import pandas as pd\n",
    "import random\n",
    "\n",
    "import matplotlib.pyplot as plt\n",
    "import seaborn as sns\n",
    "from sklearn.datasets import load_iris\n",
    "from pprint import pprint\n",
    "\n",
    "from sklearn.metrics import accuracy_score, confusion_matrix, f1_score\n",
    "\n",
    "%matplotlib inline"
   ]
  },
  {
   "cell_type": "markdown",
   "metadata": {},
   "source": [
    "# Flow-chart       \n",
    "<code>\n",
    "          Start\n",
    "            |\n",
    "        Data Pure?\n",
    "            |\n",
    "    yes ---   ---    no \n",
    "     |                |\n",
    "  classify     potential_splits\n",
    "     |                |\n",
    "    stop     lowest overall_entropy\n",
    "                      |\n",
    "                   split data\n",
    "                      |\n",
    "           <= || ==  - -  > || !=\n",
    "</code>"
   ]
  },
  {
   "cell_type": "markdown",
   "metadata": {},
   "source": [
    "# Load data\n",
    "- Note: will work with iris dataset to focus on implementation, rather than data processing"
   ]
  },
  {
   "cell_type": "code",
   "execution_count": 2,
   "metadata": {},
   "outputs": [
    {
     "data": {
      "text/html": [
       "<div>\n",
       "<style scoped>\n",
       "    .dataframe tbody tr th:only-of-type {\n",
       "        vertical-align: middle;\n",
       "    }\n",
       "\n",
       "    .dataframe tbody tr th {\n",
       "        vertical-align: top;\n",
       "    }\n",
       "\n",
       "    .dataframe thead th {\n",
       "        text-align: right;\n",
       "    }\n",
       "</style>\n",
       "<table border=\"1\" class=\"dataframe\">\n",
       "  <thead>\n",
       "    <tr style=\"text-align: right;\">\n",
       "      <th></th>\n",
       "      <th>sepal length (cm)</th>\n",
       "      <th>sepal width (cm)</th>\n",
       "      <th>petal length (cm)</th>\n",
       "      <th>petal width (cm)</th>\n",
       "    </tr>\n",
       "  </thead>\n",
       "  <tbody>\n",
       "    <tr>\n",
       "      <td>0</td>\n",
       "      <td>5.1</td>\n",
       "      <td>3.5</td>\n",
       "      <td>1.4</td>\n",
       "      <td>0.2</td>\n",
       "    </tr>\n",
       "    <tr>\n",
       "      <td>1</td>\n",
       "      <td>4.9</td>\n",
       "      <td>3.0</td>\n",
       "      <td>1.4</td>\n",
       "      <td>0.2</td>\n",
       "    </tr>\n",
       "    <tr>\n",
       "      <td>2</td>\n",
       "      <td>4.7</td>\n",
       "      <td>3.2</td>\n",
       "      <td>1.3</td>\n",
       "      <td>0.2</td>\n",
       "    </tr>\n",
       "    <tr>\n",
       "      <td>3</td>\n",
       "      <td>4.6</td>\n",
       "      <td>3.1</td>\n",
       "      <td>1.5</td>\n",
       "      <td>0.2</td>\n",
       "    </tr>\n",
       "    <tr>\n",
       "      <td>4</td>\n",
       "      <td>5.0</td>\n",
       "      <td>3.6</td>\n",
       "      <td>1.4</td>\n",
       "      <td>0.2</td>\n",
       "    </tr>\n",
       "  </tbody>\n",
       "</table>\n",
       "</div>"
      ],
      "text/plain": [
       "   sepal length (cm)  sepal width (cm)  petal length (cm)  petal width (cm)\n",
       "0                5.1               3.5                1.4               0.2\n",
       "1                4.9               3.0                1.4               0.2\n",
       "2                4.7               3.2                1.3               0.2\n",
       "3                4.6               3.1                1.5               0.2\n",
       "4                5.0               3.6                1.4               0.2"
      ]
     },
     "execution_count": 2,
     "metadata": {},
     "output_type": "execute_result"
    }
   ],
   "source": [
    "iris = load_iris()\n",
    "df = pd.DataFrame(data=iris.data, columns=iris.feature_names)\n",
    "df.head()"
   ]
  },
  {
   "cell_type": "code",
   "execution_count": 3,
   "metadata": {},
   "outputs": [],
   "source": [
    "# rename column headers\n",
    "col_names = {\n",
    "    \"sepal length (cm)\" : \"sepal_length\",\n",
    "    \"sepal width (cm)\" : \"sepal_width\",\n",
    "    \"petal length (cm)\" : \"petal_length\",\n",
    "    \"petal width (cm)\" : \"petal_width\"\n",
    "}\n",
    "\n",
    "df = df.rename(columns=col_names)"
   ]
  },
  {
   "cell_type": "code",
   "execution_count": 4,
   "metadata": {},
   "outputs": [
    {
     "data": {
      "text/html": [
       "<div>\n",
       "<style scoped>\n",
       "    .dataframe tbody tr th:only-of-type {\n",
       "        vertical-align: middle;\n",
       "    }\n",
       "\n",
       "    .dataframe tbody tr th {\n",
       "        vertical-align: top;\n",
       "    }\n",
       "\n",
       "    .dataframe thead th {\n",
       "        text-align: right;\n",
       "    }\n",
       "</style>\n",
       "<table border=\"1\" class=\"dataframe\">\n",
       "  <thead>\n",
       "    <tr style=\"text-align: right;\">\n",
       "      <th></th>\n",
       "      <th>sepal_length</th>\n",
       "      <th>sepal_width</th>\n",
       "      <th>petal_length</th>\n",
       "      <th>petal_width</th>\n",
       "      <th>label</th>\n",
       "    </tr>\n",
       "  </thead>\n",
       "  <tbody>\n",
       "    <tr>\n",
       "      <td>0</td>\n",
       "      <td>5.1</td>\n",
       "      <td>3.5</td>\n",
       "      <td>1.4</td>\n",
       "      <td>0.2</td>\n",
       "      <td>setosa</td>\n",
       "    </tr>\n",
       "    <tr>\n",
       "      <td>1</td>\n",
       "      <td>4.9</td>\n",
       "      <td>3.0</td>\n",
       "      <td>1.4</td>\n",
       "      <td>0.2</td>\n",
       "      <td>setosa</td>\n",
       "    </tr>\n",
       "    <tr>\n",
       "      <td>2</td>\n",
       "      <td>4.7</td>\n",
       "      <td>3.2</td>\n",
       "      <td>1.3</td>\n",
       "      <td>0.2</td>\n",
       "      <td>setosa</td>\n",
       "    </tr>\n",
       "    <tr>\n",
       "      <td>3</td>\n",
       "      <td>4.6</td>\n",
       "      <td>3.1</td>\n",
       "      <td>1.5</td>\n",
       "      <td>0.2</td>\n",
       "      <td>setosa</td>\n",
       "    </tr>\n",
       "    <tr>\n",
       "      <td>4</td>\n",
       "      <td>5.0</td>\n",
       "      <td>3.6</td>\n",
       "      <td>1.4</td>\n",
       "      <td>0.2</td>\n",
       "      <td>setosa</td>\n",
       "    </tr>\n",
       "  </tbody>\n",
       "</table>\n",
       "</div>"
      ],
      "text/plain": [
       "   sepal_length  sepal_width  petal_length  petal_width   label\n",
       "0           5.1          3.5           1.4          0.2  setosa\n",
       "1           4.9          3.0           1.4          0.2  setosa\n",
       "2           4.7          3.2           1.3          0.2  setosa\n",
       "3           4.6          3.1           1.5          0.2  setosa\n",
       "4           5.0          3.6           1.4          0.2  setosa"
      ]
     },
     "execution_count": 4,
     "metadata": {},
     "output_type": "execute_result"
    }
   ],
   "source": [
    "# set target\n",
    "target = iris.target\n",
    "target\n",
    "\n",
    "# combine target with df with names of labels\n",
    "df['label'] = iris.target_names[target]\n",
    "df.head()"
   ]
  },
  {
   "cell_type": "markdown",
   "metadata": {},
   "source": [
    "# Helper functions for data processing"
   ]
  },
  {
   "cell_type": "markdown",
   "metadata": {},
   "source": [
    "## Custom train-test-split function"
   ]
  },
  {
   "cell_type": "code",
   "execution_count": 5,
   "metadata": {},
   "outputs": [],
   "source": [
    "def train_test_split(df, target, test_size, separate_test=True):\n",
    "    # if test_size is a proportion\n",
    "    if isinstance(test_size, float):\n",
    "        test_size = round(test_size * len(df))\n",
    "        \n",
    "    # combine df and target\n",
    "    df['label'] = target\n",
    "    \n",
    "    # get random sample\n",
    "    indices = df.index.tolist()\n",
    "    test_indices = random.sample(population=indices, k=test_size)\n",
    "    \n",
    "    X_test = df.loc[test_indices]\n",
    "    X_train = df.drop(test_indices)\n",
    "    \n",
    "    # whether or not to return targets separately\n",
    "    if separate_test:\n",
    "        y_test = df.loc[test_indices]['label']\n",
    "        y_train = df.drop(test_indices)['label']\n",
    "        \n",
    "        return X_train, X_test, y_train, y_test\n",
    "    else:\n",
    "        return X_train, X_test"
   ]
  },
  {
   "cell_type": "code",
   "execution_count": 6,
   "metadata": {},
   "outputs": [
    {
     "name": "stdout",
     "output_type": "stream",
     "text": [
      "(15, 5)\n",
      "(15,)\n"
     ]
    }
   ],
   "source": [
    "random.seed(0)\n",
    "X = df.drop('label', axis=1)\n",
    "y = iris.target_names[target]\n",
    "\n",
    "X_train, X_test, y_train, y_test = train_test_split(X, y, test_size=.1)\n",
    "print(X_test.shape)\n",
    "print(y_test.shape)"
   ]
  },
  {
   "cell_type": "markdown",
   "metadata": {},
   "source": [
    "## Get feature types function\n",
    "- feature values are strings: categorical\n",
    "- feature values are numeric: unique_vals <= threshold are categorical, otherwise continuous\n",
    "- note: threshold is arbitrary and can be adjusted"
   ]
  },
  {
   "cell_type": "code",
   "execution_count": 7,
   "metadata": {},
   "outputs": [],
   "source": [
    "def get_feature_types(df, threshold=15):\n",
    "    feature_types = []\n",
    "    \n",
    "    for col in df.columns:\n",
    "        unique_vals = df[col].unique()\n",
    "        example_val = unique_vals[0]\n",
    "        \n",
    "        if (isinstance(example_val, str)) or (len(unique_vals) <= threshold):\n",
    "            feature_types.append(\"categorical\")\n",
    "        else:\n",
    "            feature_types.append(\"continuous\")\n",
    "    return feature_types"
   ]
  },
  {
   "cell_type": "code",
   "execution_count": 8,
   "metadata": {},
   "outputs": [
    {
     "name": "stdout",
     "output_type": "stream",
     "text": [
      "sepal_length - continuous\n",
      "sepal_width - continuous\n",
      "petal_length - continuous\n",
      "petal_width - continuous\n",
      "label - categorical\n"
     ]
    }
   ],
   "source": [
    "FEATURE_TYPES = get_feature_types(df)\n",
    "i = 0\n",
    "for col in df.columns:\n",
    "    print(col, \"-\", FEATURE_TYPES[i])\n",
    "    i += 1"
   ]
  },
  {
   "cell_type": "markdown",
   "metadata": {},
   "source": [
    "# Helper functions for Decision Tree Algorithm\n",
    "- Check purity\n",
    "- Classifier\n",
    "- Potential splits\n",
    "- Lowest overall entropy\n",
    "- Split data"
   ]
  },
  {
   "cell_type": "code",
   "execution_count": 9,
   "metadata": {},
   "outputs": [
    {
     "data": {
      "text/html": [
       "<div>\n",
       "<style scoped>\n",
       "    .dataframe tbody tr th:only-of-type {\n",
       "        vertical-align: middle;\n",
       "    }\n",
       "\n",
       "    .dataframe tbody tr th {\n",
       "        vertical-align: top;\n",
       "    }\n",
       "\n",
       "    .dataframe thead th {\n",
       "        text-align: right;\n",
       "    }\n",
       "</style>\n",
       "<table border=\"1\" class=\"dataframe\">\n",
       "  <thead>\n",
       "    <tr style=\"text-align: right;\">\n",
       "      <th></th>\n",
       "      <th>sepal_length</th>\n",
       "      <th>sepal_width</th>\n",
       "      <th>petal_length</th>\n",
       "      <th>petal_width</th>\n",
       "      <th>label</th>\n",
       "    </tr>\n",
       "  </thead>\n",
       "  <tbody>\n",
       "    <tr>\n",
       "      <td>0</td>\n",
       "      <td>5.1</td>\n",
       "      <td>3.5</td>\n",
       "      <td>1.4</td>\n",
       "      <td>0.2</td>\n",
       "      <td>setosa</td>\n",
       "    </tr>\n",
       "    <tr>\n",
       "      <td>1</td>\n",
       "      <td>4.9</td>\n",
       "      <td>3.0</td>\n",
       "      <td>1.4</td>\n",
       "      <td>0.2</td>\n",
       "      <td>setosa</td>\n",
       "    </tr>\n",
       "    <tr>\n",
       "      <td>2</td>\n",
       "      <td>4.7</td>\n",
       "      <td>3.2</td>\n",
       "      <td>1.3</td>\n",
       "      <td>0.2</td>\n",
       "      <td>setosa</td>\n",
       "    </tr>\n",
       "    <tr>\n",
       "      <td>3</td>\n",
       "      <td>4.6</td>\n",
       "      <td>3.1</td>\n",
       "      <td>1.5</td>\n",
       "      <td>0.2</td>\n",
       "      <td>setosa</td>\n",
       "    </tr>\n",
       "    <tr>\n",
       "      <td>4</td>\n",
       "      <td>5.0</td>\n",
       "      <td>3.6</td>\n",
       "      <td>1.4</td>\n",
       "      <td>0.2</td>\n",
       "      <td>setosa</td>\n",
       "    </tr>\n",
       "  </tbody>\n",
       "</table>\n",
       "</div>"
      ],
      "text/plain": [
       "   sepal_length  sepal_width  petal_length  petal_width   label\n",
       "0           5.1          3.5           1.4          0.2  setosa\n",
       "1           4.9          3.0           1.4          0.2  setosa\n",
       "2           4.7          3.2           1.3          0.2  setosa\n",
       "3           4.6          3.1           1.5          0.2  setosa\n",
       "4           5.0          3.6           1.4          0.2  setosa"
      ]
     },
     "execution_count": 9,
     "metadata": {},
     "output_type": "execute_result"
    }
   ],
   "source": [
    "df = X_train\n",
    "df.head()"
   ]
  },
  {
   "cell_type": "markdown",
   "metadata": {},
   "source": [
    "## Check purity function\n",
    "- checks number of unique classes; if equals to 1 then input is pure"
   ]
  },
  {
   "cell_type": "code",
   "execution_count": 10,
   "metadata": {},
   "outputs": [],
   "source": [
    "def check_purity(data):\n",
    "    # use label column to determine purity\n",
    "    label_col = data[:, -1]\n",
    "    unique_classes = len(np.unique(label_col))\n",
    "    \n",
    "    if unique_classes == 1:\n",
    "        return True\n",
    "    else:\n",
    "        return False"
   ]
  },
  {
   "cell_type": "code",
   "execution_count": 11,
   "metadata": {},
   "outputs": [
    {
     "data": {
      "text/plain": [
       "True"
      ]
     },
     "execution_count": 11,
     "metadata": {},
     "output_type": "execute_result"
    }
   ],
   "source": [
    "# test check_purity function against petal_width\n",
    "check_purity(df[df['petal_width'] < .8].values) == True"
   ]
  },
  {
   "cell_type": "markdown",
   "metadata": {},
   "source": [
    "## Classification function\n",
    "- finds number of unique classes and their counts, and returns the unique class with largest count"
   ]
  },
  {
   "cell_type": "code",
   "execution_count": 12,
   "metadata": {},
   "outputs": [],
   "source": [
    "def classify_data(data):\n",
    "    # use label column to determine classes\n",
    "    label_col = data[:, -1]\n",
    "    unique_classes, unique_classes_counts = np.unique(label_col, return_counts=True)\n",
    "    \n",
    "    # set index of class with greatest counts\n",
    "    majority_index = unique_classes_counts.argmax()\n",
    "    # return specific class\n",
    "    return unique_classes[majority_index]"
   ]
  },
  {
   "cell_type": "code",
   "execution_count": 13,
   "metadata": {},
   "outputs": [
    {
     "data": {
      "text/plain": [
       "True"
      ]
     },
     "execution_count": 13,
     "metadata": {},
     "output_type": "execute_result"
    }
   ],
   "source": [
    "# test classify_data against petal_width\n",
    "classify_data(df[df['petal_width'] < .8].values) == 'setosa'"
   ]
  },
  {
   "cell_type": "markdown",
   "metadata": {},
   "source": [
    "## Potential splits function\n",
    "- finds all unique values within data\n",
    "- continuous value:  creates splits inbetween each unique value\n",
    "- categorical value: creates splits based on each unique value itself"
   ]
  },
  {
   "cell_type": "code",
   "execution_count": 14,
   "metadata": {},
   "outputs": [],
   "source": [
    "def get_potential_splits(data, feature_types):\n",
    "    potential_splits = {}\n",
    "    _, n_cols = data.shape\n",
    "    \n",
    "    # go through each col in matrix\n",
    "    for col_index in range(n_cols - 1):\n",
    "        # set key = col_index\n",
    "        values = data[:, col_index]\n",
    "        unique_values = np.unique(values)\n",
    "        \n",
    "        # continous: split along midway between unique points\n",
    "        if feature_types[col_index] == \"continuous\":\n",
    "            potential_splits[col_index] = []\n",
    "            # for each unique value, calculate mid point\n",
    "            for index in range(1,len(unique_values)):\n",
    "                cur_val = unique_values[index]\n",
    "                pre_val = unique_values[index - 1]\n",
    "                potential_split_point = (cur_val + pre_val) / 2\n",
    "                potential_splits[col_index].append(potential_split_point)\n",
    "        # categorical: split along unique values directly\n",
    "        else:\n",
    "            potential_splits[col_index] = unique_values\n",
    "            \n",
    "    return potential_splits"
   ]
  },
  {
   "cell_type": "code",
   "execution_count": 15,
   "metadata": {},
   "outputs": [
    {
     "data": {
      "text/plain": [
       "{0: [4.35,\n",
       "  4.45,\n",
       "  4.55,\n",
       "  4.65,\n",
       "  4.75,\n",
       "  4.85,\n",
       "  4.95,\n",
       "  5.05,\n",
       "  5.15,\n",
       "  5.25,\n",
       "  5.35,\n",
       "  5.45,\n",
       "  5.55,\n",
       "  5.65,\n",
       "  5.75,\n",
       "  5.85,\n",
       "  5.95,\n",
       "  6.05,\n",
       "  6.15,\n",
       "  6.25,\n",
       "  6.35,\n",
       "  6.45,\n",
       "  6.55,\n",
       "  6.65,\n",
       "  6.75,\n",
       "  6.85,\n",
       "  6.95,\n",
       "  7.05,\n",
       "  7.15,\n",
       "  7.4,\n",
       "  7.65,\n",
       "  7.800000000000001],\n",
       " 1: [2.1,\n",
       "  2.25,\n",
       "  2.3499999999999996,\n",
       "  2.45,\n",
       "  2.55,\n",
       "  2.6500000000000004,\n",
       "  2.75,\n",
       "  2.8499999999999996,\n",
       "  2.95,\n",
       "  3.05,\n",
       "  3.1500000000000004,\n",
       "  3.25,\n",
       "  3.3499999999999996,\n",
       "  3.45,\n",
       "  3.55,\n",
       "  3.6500000000000004,\n",
       "  3.75,\n",
       "  3.8499999999999996,\n",
       "  3.95,\n",
       "  4.05,\n",
       "  4.15,\n",
       "  4.300000000000001],\n",
       " 2: [1.05,\n",
       "  1.15,\n",
       "  1.25,\n",
       "  1.35,\n",
       "  1.45,\n",
       "  1.55,\n",
       "  1.65,\n",
       "  1.7999999999999998,\n",
       "  2.5999999999999996,\n",
       "  3.4,\n",
       "  3.55,\n",
       "  3.6500000000000004,\n",
       "  3.75,\n",
       "  3.8499999999999996,\n",
       "  3.95,\n",
       "  4.05,\n",
       "  4.15,\n",
       "  4.25,\n",
       "  4.35,\n",
       "  4.45,\n",
       "  4.55,\n",
       "  4.65,\n",
       "  4.75,\n",
       "  4.85,\n",
       "  4.95,\n",
       "  5.05,\n",
       "  5.15,\n",
       "  5.25,\n",
       "  5.35,\n",
       "  5.45,\n",
       "  5.55,\n",
       "  5.65,\n",
       "  5.75,\n",
       "  5.85,\n",
       "  5.95,\n",
       "  6.05,\n",
       "  6.25,\n",
       "  6.5,\n",
       "  6.65,\n",
       "  6.800000000000001],\n",
       " 3: [0.15000000000000002,\n",
       "  0.25,\n",
       "  0.35,\n",
       "  0.45,\n",
       "  0.55,\n",
       "  0.8,\n",
       "  1.05,\n",
       "  1.15,\n",
       "  1.25,\n",
       "  1.35,\n",
       "  1.45,\n",
       "  1.55,\n",
       "  1.65,\n",
       "  1.75,\n",
       "  1.85,\n",
       "  1.95,\n",
       "  2.05,\n",
       "  2.1500000000000004,\n",
       "  2.25,\n",
       "  2.3499999999999996,\n",
       "  2.45]}"
      ]
     },
     "execution_count": 15,
     "metadata": {},
     "output_type": "execute_result"
    }
   ],
   "source": [
    "# test get_potential_splits\n",
    "potential_splits = get_potential_splits(df.values, FEATURE_TYPES)\n",
    "potential_splits"
   ]
  },
  {
   "cell_type": "code",
   "execution_count": 16,
   "metadata": {},
   "outputs": [
    {
     "data": {
      "image/png": "[encoded data removed]",
      "text/plain": [
       "<Figure size 1236.75x576 with 1 Axes>"
      ]
     },
     "metadata": {
      "needs_background": "light"
     },
     "output_type": "display_data"
    }
   ],
   "source": [
    "# plot potential splits\n",
    "sns.lmplot(data=df, x=\"petal_width\", y=\"petal_length\", \n",
    "           hue=\"label\", fit_reg=False, height=8, aspect=2);\n",
    "\n",
    "# check if our splits are all between 2 values, both vertically & horizontally\n",
    "plt.vlines(x=potential_splits[3], ymin=1, ymax=7);\n",
    "# plt.hlines(y=potential_splits[2], xmin=0, xmax=2.5);"
   ]
  },
  {
   "cell_type": "markdown",
   "metadata": {},
   "source": [
    "## Split data function\n",
    "- splits data along particular column and value\n",
    "- continuous: \n",
    "    - data_below = all values equal to or below split_value\n",
    "    - data_above = all values above split_value\n",
    "- categorical: \n",
    "    - data_below = all values equal to split_value\n",
    "    - data_above = all values not equal to split_value"
   ]
  },
  {
   "cell_type": "code",
   "execution_count": 17,
   "metadata": {},
   "outputs": [],
   "source": [
    "def split_data(data, split_col, split_val, feature_types):\n",
    "    split_col_vals = data[:, split_col]\n",
    "\n",
    "    if feature_types[split_col] == \"continuous\":\n",
    "        data_below = data[split_col_vals <= split_val]\n",
    "        data_above = data[split_col_vals > split_val]\n",
    "    else:\n",
    "        data_below = data[split_col_vals == split_val]\n",
    "        data_above = data[split_col_vals != split_val]\n",
    "        \n",
    "    return data_below, data_above"
   ]
  },
  {
   "cell_type": "code",
   "execution_count": 18,
   "metadata": {},
   "outputs": [],
   "source": [
    "# test split_data against feature 3 = petal_width\n",
    "split_col = 3\n",
    "split_val = 0.8\n",
    "data_below, data_above = split_data(df.values, split_col, split_val, FEATURE_TYPES)"
   ]
  },
  {
   "cell_type": "code",
   "execution_count": 19,
   "metadata": {},
   "outputs": [
    {
     "data": {
      "text/plain": [
       "(0, 2.6)"
      ]
     },
     "execution_count": 19,
     "metadata": {},
     "output_type": "execute_result"
    },
    {
     "data": {
      "image/png": "[encoded data removed]",
      "text/plain": [
       "<Figure size 1152x576 with 1 Axes>"
      ]
     },
     "metadata": {
      "needs_background": "light"
     },
     "output_type": "display_data"
    }
   ],
   "source": [
    "# plot split\n",
    "plotting_df = pd.DataFrame(data_above, columns=df.columns)\n",
    "\n",
    "sns.lmplot(data=plotting_df, x=\"petal_width\", y=\"petal_length\", fit_reg=False, height=8, aspect=2)\n",
    "plt.vlines(x=split_val, ymin=1, ymax=7)\n",
    "plt.xlim(0, 2.6)"
   ]
  },
  {
   "cell_type": "markdown",
   "metadata": {},
   "source": [
    "## Lowest overall entropy function\n",
    "<br/>\n",
    "\n",
    "<strong>Entropy</strong>  = $\\sum_{i=1}^{c} P_i$ * (-log<sub>2</sub> $P_i$ ), where $P_i$ is the probability of an event\n",
    "\n",
    "       = Weight Sum * Uncentainty Value\n",
    "\n",
    "<strong>Overall Entropy</strong> = $\\sum_{j=1}^{2} P_j$ * <strong>Entropy</strong>\n",
    "\n",
    "<br/>"
   ]
  },
  {
   "cell_type": "code",
   "execution_count": 20,
   "metadata": {},
   "outputs": [],
   "source": [
    "def calculate_entropy(data):\n",
    "    label_col = data[:, -1]\n",
    "    _, counts = np.unique(label_col, return_counts=True)\n",
    "\n",
    "    probabilities = counts / counts.sum()\n",
    "    entropy = sum(probabilities * -np.log2(probabilities))\n",
    "    \n",
    "    return entropy"
   ]
  },
  {
   "cell_type": "code",
   "execution_count": 21,
   "metadata": {},
   "outputs": [
    {
     "data": {
      "text/plain": [
       "True"
      ]
     },
     "execution_count": 21,
     "metadata": {},
     "output_type": "execute_result"
    }
   ],
   "source": [
    "# test calculate_entropy against data_below; should equal 0 as data_below is pure\n",
    "calculate_entropy(data_below) == 0.0"
   ]
  },
  {
   "cell_type": "code",
   "execution_count": 22,
   "metadata": {},
   "outputs": [],
   "source": [
    "def calculate_overall_entropy(data_below, data_above):\n",
    "    # total number of data points\n",
    "    n_data_points = len(data_below) + len(data_above)\n",
    "    \n",
    "    # probabilities\n",
    "    prob_data_below = len(data_below) / n_data_points\n",
    "    prob_data_above = len(data_above) / n_data_points\n",
    "    \n",
    "    overall_entropy = (prob_data_below * calculate_entropy(data_below)\n",
    "                     + prob_data_above * calculate_entropy(data_above))\n",
    "        \n",
    "    return overall_entropy"
   ]
  },
  {
   "cell_type": "code",
   "execution_count": 23,
   "metadata": {},
   "outputs": [
    {
     "data": {
      "text/plain": [
       "0.6443830256785783"
      ]
     },
     "execution_count": 23,
     "metadata": {},
     "output_type": "execute_result"
    }
   ],
   "source": [
    "# test calculate_overall_entropy against data_below and data_above\n",
    "calculate_overall_entropy(data_below, data_above)"
   ]
  },
  {
   "cell_type": "markdown",
   "metadata": {},
   "source": [
    "## Best split function\n",
    "\n",
    "\n",
    "Will loop through all potential_split values and calcuate overall_entropy for every split and returns smallest overall_entropy value\n",
    "\n",
    "#### Notes:\n",
    "- algorithm is relatively slow because it has to go through all potential splits = O(n^2). \n",
    "- won't perform well with features that have many potential_splits"
   ]
  },
  {
   "cell_type": "code",
   "execution_count": 24,
   "metadata": {},
   "outputs": [],
   "source": [
    "def determine_best_split(data, potential_splits, feature_types):\n",
    "    # set initial arbitary overall_entropy\n",
    "    overall_entropy = 999\n",
    "    \n",
    "    for col_index in potential_splits:\n",
    "        for val in potential_splits[col_index]:\n",
    "            # split data based on potential_split\n",
    "            data_below, data_above = split_data(data, split_col=col_index, split_val=val,\n",
    "                                                feature_types=feature_types)\n",
    "            cur_overall_entropy = calculate_overall_entropy(data_below, data_above)\n",
    "            \n",
    "            # update current overall entropy value if smaller\n",
    "            if cur_overall_entropy <= overall_entropy:\n",
    "                overall_entropy = cur_overall_entropy\n",
    "                best_split_col = col_index\n",
    "                best_split_val = val\n",
    "                \n",
    "    return best_split_col, best_split_val"
   ]
  },
  {
   "cell_type": "code",
   "execution_count": 25,
   "metadata": {},
   "outputs": [
    {
     "data": {
      "text/plain": [
       "(3, 0.8)"
      ]
     },
     "execution_count": 25,
     "metadata": {},
     "output_type": "execute_result"
    }
   ],
   "source": [
    "# test determine_best_split with current potential_splits\n",
    "determine_best_split(df.values, potential_splits, FEATURE_TYPES)"
   ]
  },
  {
   "cell_type": "markdown",
   "metadata": {},
   "source": [
    "# Decision Tree Algorithm\n",
    "- with pruning (min_samples, max_depth)"
   ]
  },
  {
   "cell_type": "markdown",
   "metadata": {},
   "source": [
    "### Tree\n",
    "<code>\n",
    "sub_tree = { question : [yes_answer, no_answer] }\n",
    "</code>\n",
    "\n",
    "want something like this:\n",
    "<code>\n",
    "example_tree = {\n",
    "    \"petal_width <= 0.8\": [\n",
    "        \"setosa\", {\n",
    "        \"petal_width <= 1.65\" : [{\n",
    "            \"petal_width <= 4.9\" : \n",
    "                 [\"versicolor\", \"viriginica\"]},\n",
    "            \"virginica\"]\n",
    "        }]\n",
    "}\n",
    "                </code>"
   ]
  },
  {
   "cell_type": "code",
   "execution_count": 26,
   "metadata": {},
   "outputs": [],
   "source": [
    "def decision_tree_algorithm(df, feature_types, headers, counter=0, min_samples=2, max_depth=5):\n",
    "    # data preparation:\n",
    "    #   need to do this step to work with 2D arrays\n",
    "    if counter == 0:\n",
    "        headers = df.columns\n",
    "        data = df.values\n",
    "    else:\n",
    "        data = df\n",
    "    \n",
    "    # base case: is data pure or\n",
    "    #  size is less than min_samples or\n",
    "    #  counter is at max_depth\n",
    "    if ((check_purity(data)) or \n",
    "     (len(data) < min_samples) or \n",
    "     (counter == max_depth)):\n",
    "        classification = classify_data(data)\n",
    "        return classification\n",
    "    \n",
    "    \n",
    "    counter += 1\n",
    "    \n",
    "    # helper functions\n",
    "    potential_splits = get_potential_splits(data, feature_types)\n",
    "    split_col, split_val = determine_best_split(data, potential_splits, feature_types)\n",
    "    data_below, data_above = split_data(data, split_col, split_val, feature_types)\n",
    "    \n",
    "    # instantiate sub-tree\n",
    "    feature_name = headers[split_col]\n",
    "    type_of_feature = feature_types[split_col]\n",
    "    \n",
    "    if type_of_feature == \"continuous\":\n",
    "        question = \"{} <= {}\".format(feature_name, split_val)\n",
    "    else:\n",
    "        question = \"{} == {}\".format(feature_name, split_val)\n",
    "        \n",
    "    sub_tree = {question: []}\n",
    "    \n",
    "    # recursively find answers\n",
    "    yes_answer = decision_tree_algorithm(data_below, feature_types, headers, \n",
    "                                         counter, min_samples, max_depth)\n",
    "    no_answer = decision_tree_algorithm(data_above, feature_types, headers, \n",
    "                                        counter, min_samples, max_depth)\n",
    "    \n",
    "    # if answers are the same, just assign one\n",
    "    if yes_answer == no_answer:\n",
    "        sub_tree = yes_answer\n",
    "    else:\n",
    "        sub_tree[question].append(yes_answer)\n",
    "        sub_tree[question].append(no_answer)\n",
    "        \n",
    "    return sub_tree"
   ]
  },
  {
   "cell_type": "code",
   "execution_count": 27,
   "metadata": {},
   "outputs": [
    {
     "name": "stdout",
     "output_type": "stream",
     "text": [
      "{'petal_width <= 0.8': ['setosa',\n",
      "                        {'petal_width <= 1.65': [{'petal_length <= 4.95': ['versicolor',\n",
      "                                                                           'virginica']},\n",
      "                                                 'virginica']}]}\n"
     ]
    }
   ],
   "source": [
    "tree = decision_tree_algorithm(df=df, feature_types=FEATURE_TYPES, headers=df.columns, max_depth=3)\n",
    "pprint(tree)"
   ]
  },
  {
   "cell_type": "markdown",
   "metadata": {},
   "source": [
    "## Classification\n",
    "\n",
    "- recursively traverses down the tree and answers questions until reaches a leaf node\n",
    "- continuous: comparison_op:  \"<=\" float(value)\n",
    "- categorical: comparison_op: \"==\" value"
   ]
  },
  {
   "cell_type": "code",
   "execution_count": 28,
   "metadata": {},
   "outputs": [],
   "source": [
    "def classify_example(example, tree):\n",
    "    question = list(tree.keys())[0]\n",
    "    feature_name, comparison_op, value = question.split()\n",
    "    \n",
    "    # ask question:\n",
    "    if comparison_op == \"<=\":\n",
    "        if example[feature_name] <= float(value):\n",
    "            answer = tree[question][0]\n",
    "        else:\n",
    "            answer = tree[question][1]\n",
    "    else:\n",
    "        if str(example[feature_name]) == value:\n",
    "            answer = tree[question][0]\n",
    "        else:\n",
    "            answer = tree[question][1]\n",
    "    \n",
    "    # base case: if answer is not a dictionary\n",
    "    if not isinstance(answer, dict):\n",
    "        return answer\n",
    "    \n",
    "    # otherwise recurse\n",
    "    return classify_example(example, answer)"
   ]
  },
  {
   "cell_type": "code",
   "execution_count": 29,
   "metadata": {},
   "outputs": [
    {
     "data": {
      "text/plain": [
       "sepal_length       5.1\n",
       "sepal_width        3.5\n",
       "petal_length       1.4\n",
       "petal_width        0.2\n",
       "label           setosa\n",
       "Name: 0, dtype: object"
      ]
     },
     "execution_count": 29,
     "metadata": {},
     "output_type": "execute_result"
    }
   ],
   "source": [
    "example = df.iloc[0]\n",
    "example"
   ]
  },
  {
   "cell_type": "code",
   "execution_count": 30,
   "metadata": {},
   "outputs": [
    {
     "data": {
      "text/plain": [
       "True"
      ]
     },
     "execution_count": 30,
     "metadata": {},
     "output_type": "execute_result"
    }
   ],
   "source": [
    "classify_example(example, tree) == df.iloc[0][\"label\"]"
   ]
  },
  {
   "cell_type": "markdown",
   "metadata": {},
   "source": [
    "# SciKit-Learn pattern"
   ]
  },
  {
   "cell_type": "code",
   "execution_count": 31,
   "metadata": {},
   "outputs": [],
   "source": [
    "class DecisionTreeClassifier():  \n",
    "    # constructor\n",
    "    def __init__ (self, min_samples=2, max_depth=5, threshold=15):\n",
    "        self.min_samples = min_samples\n",
    "        self.max_depth = max_depth\n",
    "        \n",
    "        # threshold for categorical determination\n",
    "        self.threshold = threshold\n",
    "        self.tree = []\n",
    "        self.feature_types = []\n",
    "        self.col_headers = []\n",
    "    \n",
    "    def combine_with_label(self,X, y):\n",
    "        new_df = X.copy()\n",
    "        new_df['label'] = y\n",
    "        return new_df\n",
    "    \n",
    "    # algorithm:\n",
    "    algorithm = decision_tree_algorithm\n",
    "    \n",
    "    # sklearn APIs:\n",
    "    def fit(self, X, y):\n",
    "        # combine X and y to one df\n",
    "        new_df = X.copy()\n",
    "        new_df['label'] = y\n",
    "        \n",
    "        # set feature_types and col_headers\n",
    "        self.feature_types = get_feature_types(X, self.threshold)\n",
    "        self.col_headers = X.columns.values\n",
    "        \n",
    "        # run algorithm to generate decision tree\n",
    "        self.tree = decision_tree_algorithm(new_df, self.feature_types, self.col_headers,\n",
    "                                            min_samples=self.min_samples, max_depth=self.max_depth)\n",
    "        \n",
    "    def predict(self, X):\n",
    "        num_examples, _ = X.shape\n",
    "        predictions = []\n",
    "        \n",
    "        for i in range(num_examples):\n",
    "            predictions.append(classify_example(X.iloc[i], self.tree))\n",
    "        \n",
    "        return np.array(predictions)"
   ]
  },
  {
   "cell_type": "markdown",
   "metadata": {},
   "source": [
    "# Machine Learning"
   ]
  },
  {
   "cell_type": "markdown",
   "metadata": {},
   "source": [
    "## Create train and test splits"
   ]
  },
  {
   "cell_type": "code",
   "execution_count": 48,
   "metadata": {},
   "outputs": [
    {
     "name": "stdout",
     "output_type": "stream",
     "text": [
      "(108, 5)\n",
      "(27, 5)\n",
      "(108,)\n",
      "(27,)\n"
     ]
    }
   ],
   "source": [
    "# separating label column from df\n",
    "X = df.drop('label', axis=1)\n",
    "y = df['label']\n",
    "\n",
    "X_train, X_test, y_train, y_test = train_test_split(X, y, test_size=0.2, separate_test=True)\n",
    "\n",
    "print(X_train.shape)\n",
    "print(X_test.shape)\n",
    "print(y_train.shape)\n",
    "print(y_test.shape)"
   ]
  },
  {
   "cell_type": "markdown",
   "metadata": {},
   "source": [
    "## Estimator"
   ]
  },
  {
   "cell_type": "code",
   "execution_count": 58,
   "metadata": {},
   "outputs": [],
   "source": [
    "dt = DecisionTreeClassifier()"
   ]
  },
  {
   "cell_type": "markdown",
   "metadata": {},
   "source": [
    "## Fit the model"
   ]
  },
  {
   "cell_type": "code",
   "execution_count": 59,
   "metadata": {},
   "outputs": [],
   "source": [
    "dt.fit(X_train, y_train)"
   ]
  },
  {
   "cell_type": "markdown",
   "metadata": {},
   "source": [
    "## Make predictions"
   ]
  },
  {
   "cell_type": "code",
   "execution_count": 60,
   "metadata": {},
   "outputs": [],
   "source": [
    "test_pred = dt.predict(X_test)"
   ]
  },
  {
   "cell_type": "markdown",
   "metadata": {},
   "source": [
    "# Metrics"
   ]
  },
  {
   "cell_type": "markdown",
   "metadata": {},
   "source": [
    "### Accuracy"
   ]
  },
  {
   "cell_type": "code",
   "execution_count": 61,
   "metadata": {},
   "outputs": [
    {
     "name": "stdout",
     "output_type": "stream",
     "text": [
      "0.9629629629629629\n"
     ]
    }
   ],
   "source": [
    "print(accuracy_score(y_test, test_pred))"
   ]
  },
  {
   "cell_type": "markdown",
   "metadata": {},
   "source": [
    "### F1 Score"
   ]
  },
  {
   "cell_type": "code",
   "execution_count": 62,
   "metadata": {},
   "outputs": [
    {
     "name": "stdout",
     "output_type": "stream",
     "text": [
      "0.9629629629629629\n"
     ]
    }
   ],
   "source": [
    "print(f1_score(y_test, test_pred, average='micro'))"
   ]
  },
  {
   "cell_type": "markdown",
   "metadata": {},
   "source": [
    "### Confusion matrix"
   ]
  },
  {
   "cell_type": "code",
   "execution_count": 63,
   "metadata": {},
   "outputs": [
    {
     "data": {
      "text/html": [
       "<div>\n",
       "<style scoped>\n",
       "    .dataframe tbody tr th:only-of-type {\n",
       "        vertical-align: middle;\n",
       "    }\n",
       "\n",
       "    .dataframe tbody tr th {\n",
       "        vertical-align: top;\n",
       "    }\n",
       "\n",
       "    .dataframe thead th {\n",
       "        text-align: right;\n",
       "    }\n",
       "</style>\n",
       "<table border=\"1\" class=\"dataframe\">\n",
       "  <thead>\n",
       "    <tr style=\"text-align: right;\">\n",
       "      <th>Predicted Species</th>\n",
       "      <th>setosa</th>\n",
       "      <th>versicolor</th>\n",
       "      <th>virginica</th>\n",
       "    </tr>\n",
       "    <tr>\n",
       "      <th>Actual Species</th>\n",
       "      <th></th>\n",
       "      <th></th>\n",
       "      <th></th>\n",
       "    </tr>\n",
       "  </thead>\n",
       "  <tbody>\n",
       "    <tr>\n",
       "      <td>setosa</td>\n",
       "      <td>10</td>\n",
       "      <td>0</td>\n",
       "      <td>0</td>\n",
       "    </tr>\n",
       "    <tr>\n",
       "      <td>versicolor</td>\n",
       "      <td>0</td>\n",
       "      <td>10</td>\n",
       "      <td>1</td>\n",
       "    </tr>\n",
       "    <tr>\n",
       "      <td>virginica</td>\n",
       "      <td>0</td>\n",
       "      <td>0</td>\n",
       "      <td>6</td>\n",
       "    </tr>\n",
       "  </tbody>\n",
       "</table>\n",
       "</div>"
      ],
      "text/plain": [
       "Predicted Species  setosa  versicolor  virginica\n",
       "Actual Species                                  \n",
       "setosa                 10           0          0\n",
       "versicolor              0          10          1\n",
       "virginica               0           0          6"
      ]
     },
     "execution_count": 63,
     "metadata": {},
     "output_type": "execute_result"
    }
   ],
   "source": [
    "pd.crosstab(y_test, test_pred, \n",
    "            rownames=['Actual Species'], colnames=['Predicted Species'])"
   ]
  }
 ],
 "metadata": {
  "kernelspec": {
   "display_name": "Python 3",
   "language": "python",
   "name": "python3"
  },
  "language_info": {
   "codemirror_mode": {
    "name": "ipython",
    "version": 3
   },
   "file_extension": ".py",
   "mimetype": "text/x-python",
   "name": "python",
   "nbconvert_exporter": "python",
   "pygments_lexer": "ipython3",
   "version": "3.7.4"
  }
 },
 "nbformat": 4,
 "nbformat_minor": 2
}
